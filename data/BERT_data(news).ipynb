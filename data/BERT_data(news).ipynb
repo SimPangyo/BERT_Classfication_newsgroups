{
  "nbformat": 4,
  "nbformat_minor": 0,
  "metadata": {
    "colab": {
      "name": "BERT_data(news)",
      "provenance": [],
      "collapsed_sections": []
    },
    "kernelspec": {
      "name": "python3",
      "display_name": "Python 3"
    },
    "language_info": {
      "name": "python"
    }
  },
  "cells": [
    {
      "cell_type": "code",
      "metadata": {
        "id": "w7NmYxLnVIo7",
        "colab": {
          "base_uri": "https://localhost:8080/"
        },
        "outputId": "b7b11654-b3bf-40b2-d323-de4a5ddd3a6c"
      },
      "source": [
        "!pip install transformers\n",
        "\n",
        "import numpy as np\n",
        "import re\n",
        "import pickle\n",
        "from sklearn.model_selection import train_test_split\n",
        "from sklearn.datasets import fetch_20newsgroups\n",
        "from transformers import BertTokenizer\n",
        "from tqdm import tqdm\n",
        "import seaborn as sns\n",
        "\n",
        "newsData = fetch_20newsgroups(shuffle=True, random_state=1, remove=('footers', 'quotes'))\n",
        "\n",
        "news = newsData['data']\n",
        "topic = newsData['target']\n",
        "n_topic = len(set(topic))\n",
        "\n",
        "subjects = []\n",
        "y_topic = []\n",
        "for text, top in zip(news, topic):\n",
        "    for sent in text.split('\\n'):\n",
        "        idx = sent.find('Subject:')\n",
        "        if idx >= 0:      \n",
        "            subject = sent[(idx + 9):].replace('Re: ', '').lower()\n",
        "            subject = re.sub(\"[^a-zA-Z]\", \" \", subject)\n",
        "            if len(subject.split()) > 3: \n",
        "                subjects.append(subject)\n",
        "                y_topic.append(top)\n",
        "            break\n"
      ],
      "execution_count": 5,
      "outputs": [
        {
          "output_type": "stream",
          "text": [
            "Requirement already satisfied: transformers in /usr/local/lib/python3.7/dist-packages (4.9.2)\n",
            "Requirement already satisfied: numpy>=1.17 in /usr/local/lib/python3.7/dist-packages (from transformers) (1.19.5)\n",
            "Requirement already satisfied: importlib-metadata in /usr/local/lib/python3.7/dist-packages (from transformers) (4.6.4)\n",
            "Requirement already satisfied: regex!=2019.12.17 in /usr/local/lib/python3.7/dist-packages (from transformers) (2019.12.20)\n",
            "Requirement already satisfied: requests in /usr/local/lib/python3.7/dist-packages (from transformers) (2.23.0)\n",
            "Requirement already satisfied: pyyaml>=5.1 in /usr/local/lib/python3.7/dist-packages (from transformers) (5.4.1)\n",
            "Requirement already satisfied: sacremoses in /usr/local/lib/python3.7/dist-packages (from transformers) (0.0.45)\n",
            "Requirement already satisfied: packaging in /usr/local/lib/python3.7/dist-packages (from transformers) (21.0)\n",
            "Requirement already satisfied: tokenizers<0.11,>=0.10.1 in /usr/local/lib/python3.7/dist-packages (from transformers) (0.10.3)\n",
            "Requirement already satisfied: tqdm>=4.27 in /usr/local/lib/python3.7/dist-packages (from transformers) (4.62.0)\n",
            "Requirement already satisfied: huggingface-hub==0.0.12 in /usr/local/lib/python3.7/dist-packages (from transformers) (0.0.12)\n",
            "Requirement already satisfied: filelock in /usr/local/lib/python3.7/dist-packages (from transformers) (3.0.12)\n",
            "Requirement already satisfied: typing-extensions in /usr/local/lib/python3.7/dist-packages (from huggingface-hub==0.0.12->transformers) (3.7.4.3)\n",
            "Requirement already satisfied: pyparsing>=2.0.2 in /usr/local/lib/python3.7/dist-packages (from packaging->transformers) (2.4.7)\n",
            "Requirement already satisfied: zipp>=0.5 in /usr/local/lib/python3.7/dist-packages (from importlib-metadata->transformers) (3.5.0)\n",
            "Requirement already satisfied: idna<3,>=2.5 in /usr/local/lib/python3.7/dist-packages (from requests->transformers) (2.10)\n",
            "Requirement already satisfied: chardet<4,>=3.0.2 in /usr/local/lib/python3.7/dist-packages (from requests->transformers) (3.0.4)\n",
            "Requirement already satisfied: urllib3!=1.25.0,!=1.25.1,<1.26,>=1.21.1 in /usr/local/lib/python3.7/dist-packages (from requests->transformers) (1.24.3)\n",
            "Requirement already satisfied: certifi>=2017.4.17 in /usr/local/lib/python3.7/dist-packages (from requests->transformers) (2021.5.30)\n",
            "Requirement already satisfied: six in /usr/local/lib/python3.7/dist-packages (from sacremoses->transformers) (1.15.0)\n",
            "Requirement already satisfied: click in /usr/local/lib/python3.7/dist-packages (from sacremoses->transformers) (7.1.2)\n",
            "Requirement already satisfied: joblib in /usr/local/lib/python3.7/dist-packages (from sacremoses->transformers) (1.0.1)\n"
          ],
          "name": "stdout"
        }
      ]
    },
    {
      "cell_type": "code",
      "metadata": {
        "colab": {
          "base_uri": "https://localhost:8080/",
          "height": 424
        },
        "id": "FjHFvPyy6sc0",
        "outputId": "a1c06f9e-65e8-43b3-af70-73403e25e167"
      },
      "source": [
        "tokenizer = BertTokenizer.from_pretrained('bert-base-uncased', cache_dir='bert_eng_ckpt', do_lower_case=False)\n",
        "\n",
        "subject_idx = [tokenizer.encode(s.split()) for s in subjects]\n",
        "print(subject_idx[:10])\n",
        "\n",
        "subject_len = [len(x) for x in subject_idx]\n",
        "print('max = ', np.max(subject_len))\n",
        "sns.displot(subject_len)\n",
        "\n",
        "with open('/content/drive/MyDrive/news20_subject.pkl', 'wb') as f:\n",
        "    pickle.dump([subjects, y_topic,subject_idx], f, pickle.DEFAULT_PROTOCOL)"
      ],
      "execution_count": 6,
      "outputs": [
        {
          "output_type": "stream",
          "text": [
            "[[101, 19142, 100, 1998, 100, 102], [101, 100, 3980, 2000, 28363, 102], [101, 100, 2449, 2004, 5156, 102], [101, 7808, 4770, 3627, 13921, 102], [101, 2054, 2106, 23623, 5437, 2066, 102], [101, 17053, 4003, 2005, 100, 102], [101, 2053, 2455, 2005, 3521, 2053, 100, 102], [101, 2003, 100, 14639, 100, 102], [101, 4816, 100, 2001, 2109, 13154, 3160, 102], [101, 19804, 3274, 8389, 7692, 10328, 4882, 2112, 102]]\n",
            "max =  29\n"
          ],
          "name": "stdout"
        },
        {
          "output_type": "display_data",
          "data": {
            "image/png": "[encoded data removed]",
            "text/plain": [
              "<Figure size 360x360 with 1 Axes>"
            ]
          },
          "metadata": {
            "needs_background": "light"
          }
        }
      ]
    },
    {
      "cell_type": "code",
      "metadata": {
        "id": "fmMA-Ggi6WcP",
        "colab": {
          "base_uri": "https://localhost:8080/"
        },
        "outputId": "e8469c4d-9464-4e6b-b266-cd3ddd06d760"
      },
      "source": [
        "# 참조: https://huggingface.co/transformers/main_classes/tokenizer.html?highlight=encode_plus#transformers.PreTrainedTokenizer.encode_plus\n",
        "\n",
        "MAX_LEN = 20\n",
        "\n",
        "def bert_tokenizer(sent):\n",
        "    \n",
        "    encoded_dict = tokenizer.encode_plus(\n",
        "        text = sent, \n",
        "        add_special_tokens = True,    \n",
        "        max_length = MAX_LEN,           \n",
        "        pad_to_max_length = True,\n",
        "        return_attention_mask = True    \n",
        "    )\n",
        "    \n",
        "    input_id = encoded_dict['input_ids']\n",
        "    attention_mask = encoded_dict['attention_mask'] \n",
        "    token_type_id = encoded_dict['token_type_ids']  \n",
        "    \n",
        "    return input_id, attention_mask, token_type_id\n",
        "\n",
        "def build_data(doc):\n",
        "    x_ids = []\n",
        "    x_msk = []\n",
        "    x_typ = []\n",
        "\n",
        "    for sent in tqdm(doc):\n",
        "        input_id, attention_mask, token_type_id = bert_tokenizer(sent)\n",
        "        x_ids.append(input_id)\n",
        "        x_msk.append(attention_mask)\n",
        "        x_typ.append(token_type_id)\n",
        "\n",
        "    x_ids = np.array(x_ids, dtype=int)\n",
        "    x_msk = np.array(x_msk, dtype=int)\n",
        "    x_typ = np.array(x_typ, dtype=int)\n",
        "\n",
        "    return x_ids, x_msk, x_typ\n",
        "\n",
        "x_train,x_test,y_train,y_test=train_test_split(subjects,y_topic,test_size=0.1)\n",
        "\n",
        "x_train_ids, x_train_msk, x_train_typ = build_data(x_train)\n",
        "x_test_ids, x_test_msk, x_test_typ = build_data(x_test)\n",
        "\n",
        "y_train = np.array(y_train).reshape(-1, 1)\n",
        "y_test = np.array(y_test).reshape(-1, 1)\n",
        "\n",
        "x_train_ids.shape, y_train.shape, x_test_ids.shape, y_test.shape\n",
        "\n",
        "with open('/content/drive/MyDrive/news20_train_data.pkl', 'wb') as f:\n",
        "    pickle.dump([x_train_ids, x_train_msk, x_train_typ,x_test_ids, x_test_msk, x_test_typ, y_train, y_test], f, pickle.DEFAULT_PROTOCOL)"
      ],
      "execution_count": 9,
      "outputs": [
        {
          "output_type": "stream",
          "text": [
            "  0%|          | 0/6907 [00:00<?, ?it/s]/usr/local/lib/python3.7/dist-packages/transformers/tokenization_utils_base.py:2190: FutureWarning: The `pad_to_max_length` argument is deprecated and will be removed in a future version, use `padding=True` or `padding='longest'` to pad to the longest sequence in the batch, or use `padding='max_length'` to pad to a max length. In this case, you can give a specific length with `max_length` (e.g. `max_length=45`) or leave max_length to None to pad to the maximal input size of the model (e.g. 512 for Bert).\n",
            "  FutureWarning,\n",
            "100%|██████████| 6907/6907 [00:02<00:00, 3156.38it/s]\n",
            "100%|██████████| 768/768 [00:00<00:00, 2884.40it/s]\n"
          ],
          "name": "stderr"
        }
      ]
    }
  ]
}